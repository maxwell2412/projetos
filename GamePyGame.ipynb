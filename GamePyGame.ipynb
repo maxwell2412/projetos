{
  "nbformat": 4,
  "nbformat_minor": 0,
  "metadata": {
    "colab": {
      "provenance": [],
      "authorship_tag": "ABX9TyOwsoY6v/h59cWaugWLb5uE",
      "include_colab_link": true
    },
    "kernelspec": {
      "name": "python3",
      "display_name": "Python 3"
    },
    "language_info": {
      "name": "python"
    }
  },
  "cells": [
    {
      "cell_type": "markdown",
      "metadata": {
        "id": "view-in-github",
        "colab_type": "text"
      },
      "source": [
        "<a href=\"https://colab.research.google.com/github/maxwell2412/projetos/blob/main/GamePyGame.ipynb\" target=\"_parent\"><img src=\"https://colab.research.google.com/assets/colab-badge.svg\" alt=\"Open In Colab\"/></a>"
      ]
    },
    {
      "cell_type": "code",
      "execution_count": null,
      "metadata": {
        "id": "yUTfFK78C3ho"
      },
      "outputs": [],
      "source": [
        "import pygame\n",
        "pygame.init()\n",
        "nome_do_jogo = \"Teste\" \"\"\"Nome do jogo aqui!\"\"\"\n",
        "janela = pygame.display.set_mode((800, 600))\n",
        "pygame.display.set_caption(nome_do_jogo)\n",
        "\n",
        "janela_aberta = True\n",
        "while janela_aberta:\n",
        "  for event in pygame.event.get():\n",
        "    if event.type == pygame.QUIT:\n",
        "      janela_aberta = False\n",
        "pygame.quit()\n"
      ]
    }
  ]
}